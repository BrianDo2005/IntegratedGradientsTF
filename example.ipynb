{
 "cells": [
  {
   "cell_type": "code",
   "execution_count": 1,
   "metadata": {
    "collapsed": true
   },
   "outputs": [],
   "source": [
    "import tensorflow as tf\n",
    "import numpy as np\n",
    "import matplotlib.pyplot as plt\n",
    "from util import *"
   ]
  },
  {
   "cell_type": "markdown",
   "metadata": {},
   "source": [
    "# Load data"
   ]
  },
  {
   "cell_type": "code",
   "execution_count": 2,
   "metadata": {},
   "outputs": [
    {
     "name": "stdout",
     "output_type": "stream",
     "text": [
      "Extracting MNIST_data/train-images-idx3-ubyte.gz\n",
      "Extracting MNIST_data/train-labels-idx1-ubyte.gz\n",
      "Extracting MNIST_data/t10k-images-idx3-ubyte.gz\n",
      "Extracting MNIST_data/t10k-labels-idx1-ubyte.gz\n"
     ]
    }
   ],
   "source": [
    "from tensorflow.examples.tutorials.mnist import input_data\n",
    "mnist = input_data.read_data_sets(\"MNIST_data/\", one_hot=True)\n",
    "\n",
    "X = mnist.train._images.reshape(55000,28,28)\n",
    "Y = mnist.train._labels\n",
    "index = np.arange(55000)\n",
    "np.random.shuffle(index)\n",
    "\n",
    "train_bf = BatchFeeder(X[index[:54000]], Y[index[:54000]], 128)\n",
    "valid_bf = BatchFeeder(X[index[54000:]], Y[index[54000:]], 32)"
   ]
  },
  {
   "cell_type": "markdown",
   "metadata": {},
   "source": [
    "# Train model"
   ]
  },
  {
   "cell_type": "code",
   "execution_count": 3,
   "metadata": {},
   "outputs": [],
   "source": [
    "model = testnet()"
   ]
  },
  {
   "cell_type": "code",
   "execution_count": 4,
   "metadata": {},
   "outputs": [
    {
     "name": "stdout",
     "output_type": "stream",
     "text": [
      "Epoch:1\n",
      "Epoch:2\n",
      "Epoch:3\n",
      "Epoch:4\n",
      "Epoch:5\n"
     ]
    }
   ],
   "source": [
    "model.train(train_bf, 5)"
   ]
  },
  {
   "cell_type": "markdown",
   "metadata": {},
   "source": [
    "# Explain it"
   ]
  },
  {
   "cell_type": "code",
   "execution_count": 10,
   "metadata": {},
   "outputs": [
    {
     "name": "stdout",
     "output_type": "stream",
     "text": [
      "Truth: 0\n",
      "Prediction: 0\n"
     ]
    },
    {
     "data": {
      "image/png": "[encoded data removed]",
      "text/plain": [
       "<matplotlib.figure.Figure at 0x7f0afcda8650>"
      ]
     },
     "metadata": {},
     "output_type": "display_data"
    }
   ],
   "source": [
    "x, y = valid_bf.next()\n",
    "pred = model.predict(x)\n",
    "ex = model.explain(x)\n",
    "\n",
    "index = 0\n",
    "\n",
    "print \"Truth:\", np.argmax(y[index])\n",
    "print \"Prediction:\", np.argmax(pred[index])\n",
    "\n",
    "# Plot the true image.\n",
    "plt.figure(figsize=(9.5,1))\n",
    "plt.subplot(1,11,1)\n",
    "plt.imshow(x[index].reshape(28,28), cmap=\"Greys\")\n",
    "plt.xticks([],[])\n",
    "plt.yticks([],[])\n",
    "plt.title(\"Original image\", fontsize=8)\n",
    "\n",
    "# Generate explanation with respect to each of 10 output channels.\n",
    "exs = []\n",
    "for i in range(10):\n",
    "    exs.append(ex[i][index].reshape(28, 28))\n",
    "exs = np.array(exs)\n",
    "\n",
    "# Plot them\n",
    "th = max(np.abs(np.min(exs)), np.abs(np.max(exs)))\n",
    "for i in range(1,11):\n",
    "    e = exs[i-1]\n",
    "    plt.subplot(1,11,1+i)\n",
    "    plt.imshow(e, cmap=\"seismic\", vmin=-1*th, vmax=th)\n",
    "    plt.xticks([],[])\n",
    "    plt.yticks([],[])\n",
    "    plt.title(\"Exp. for (\"+str(i-1)+\")\", fontsize=8)\n",
    "plt.tight_layout()\n",
    "plt.show()"
   ]
  },
  {
   "cell_type": "code",
   "execution_count": null,
   "metadata": {
    "collapsed": true
   },
   "outputs": [],
   "source": []
  }
 ],
 "metadata": {
  "kernelspec": {
   "display_name": "Python 2",
   "language": "python",
   "name": "python2"
  },
  "language_info": {
   "codemirror_mode": {
    "name": "ipython",
    "version": 2
   },
   "file_extension": ".py",
   "mimetype": "text/x-python",
   "name": "python",
   "nbconvert_exporter": "python",
   "pygments_lexer": "ipython2",
   "version": "2.7.14"
  }
 },
 "nbformat": 4,
 "nbformat_minor": 2
}
